{
 "cells": [
  {
   "cell_type": "code",
   "execution_count": null,
   "metadata": {},
   "outputs": [],
   "source": [
    "import warnings\n",
    "warnings.filterwarnings('ignore')\n",
    "%matplotlib inline\n",
    "\n",
    "import matplotlib.pyplot as plt\n",
    "import seaborn as sns\n",
    "import pandas as pd\n",
    "from quantfreedom.indicators.tv_indicators import rsi_tv, bb_tv, macd_tv\n",
    "\n",
    "sns.set_style('whitegrid')\n",
    "idx = pd.IndexSlice"
   ]
  },
  {
   "cell_type": "code",
   "execution_count": null,
   "metadata": {},
   "outputs": [],
   "source": [
    "DATA_STORE = '../data/assets.h5'"
   ]
  },
  {
   "cell_type": "code",
   "execution_count": null,
   "metadata": {},
   "outputs": [],
   "source": [
    "with pd.HDFStore(DATA_STORE) as store:\n",
    "    data: pd.DataFrame = (\n",
    "        store[\"quandl/wiki/prices\"]\n",
    "        .loc[idx[\"2007\":\"2010\", \"AAPL\"], [\"adj_open\", \"adj_high\", \"adj_low\", \"adj_close\", \"adj_volume\"]]\n",
    "        .unstack(\"ticker\")\n",
    "        .swaplevel(axis=1)\n",
    "        .loc[:, \"AAPL\"]\n",
    "        .rename(columns=lambda x: x.replace(\"adj_\", \"\"))\n",
    "    )"
   ]
  },
  {
   "cell_type": "code",
   "execution_count": null,
   "metadata": {},
   "outputs": [],
   "source": [
    "data"
   ]
  },
  {
   "cell_type": "code",
   "execution_count": null,
   "metadata": {},
   "outputs": [],
   "source": [
    "closing_prices = data[\"close\"].to_numpy()"
   ]
  },
  {
   "cell_type": "code",
   "execution_count": null,
   "metadata": {},
   "outputs": [],
   "source": [
    "mid, up, low = bb_tv(source=closing_prices, length=21, multi=2)"
   ]
  },
  {
   "cell_type": "code",
   "execution_count": null,
   "metadata": {},
   "outputs": [],
   "source": [
    "rsi = rsi_tv(source=closing_prices, length=14)"
   ]
  },
  {
   "cell_type": "code",
   "execution_count": null,
   "metadata": {},
   "outputs": [],
   "source": [
    "macdhist, macd, macdsignal = macd_tv(source=closing_prices, fast_length=12, slow_length=26, signal_smoothing=9)"
   ]
  },
  {
   "cell_type": "code",
   "execution_count": null,
   "metadata": {},
   "outputs": [],
   "source": [
    "macd_data = pd.DataFrame({\"AAPL\": data.close, \"MACD\": macd, \"MACD Signal\": macdsignal, \"MACD History\": macdhist})\n",
    "\n",
    "fig, axes = plt.subplots(nrows=2, figsize=(15, 8))\n",
    "macd_data.AAPL.plot(ax=axes[0])\n",
    "macd_data.drop(\"AAPL\", axis=1).plot(ax=axes[1])\n",
    "fig.tight_layout()\n",
    "sns.despine()"
   ]
  },
  {
   "cell_type": "code",
   "execution_count": null,
   "metadata": {},
   "outputs": [],
   "source": [
    "data = pd.DataFrame({'AAPL': data.close, 'BB Up': up, 'BB Mid': mid, 'BB down': low, 'RSI': rsi, 'MACD': macd})"
   ]
  },
  {
   "cell_type": "code",
   "execution_count": null,
   "metadata": {},
   "outputs": [],
   "source": [
    "fig, axes = plt.subplots(nrows=3, figsize=(15, 10), sharex=True)\n",
    "data.drop([\"RSI\", \"MACD\"], axis=1).plot(ax=axes[0], lw=1, title=\"Bollinger Bands\")\n",
    "data[\"RSI\"].plot(ax=axes[1], lw=1, title=\"Relative Strength Index\")\n",
    "axes[1].axhline(70, lw=1, ls=\"--\", c=\"k\")\n",
    "axes[1].axhline(30, lw=1, ls=\"--\", c=\"k\")\n",
    "data.MACD.plot(ax=axes[2], lw=1, title=\"Moving Average Convergence/Divergence\", rot=0)\n",
    "axes[2].set_xlabel(\"\")\n",
    "fig.tight_layout()\n",
    "sns.despine()"
   ]
  }
 ],
 "metadata": {
  "kernelspec": {
   "display_name": "whocares",
   "language": "python",
   "name": "python3"
  },
  "language_info": {
   "codemirror_mode": {
    "name": "ipython",
    "version": 3
   },
   "file_extension": ".py",
   "mimetype": "text/x-python",
   "name": "python",
   "nbconvert_exporter": "python",
   "pygments_lexer": "ipython3",
   "version": "3.10.10"
  }
 },
 "nbformat": 4,
 "nbformat_minor": 2
}
